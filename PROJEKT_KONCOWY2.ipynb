{
  "nbformat": 4,
  "nbformat_minor": 0,
  "metadata": {
    "colab": {
      "provenance": [],
      "gpuType": "T4",
      "authorship_tag": "ABX9TyNEKRHzlrdSozKZfBz0c78V",
      "include_colab_link": true
    },
    "kernelspec": {
      "name": "python3",
      "display_name": "Python 3"
    },
    "language_info": {
      "name": "python"
    },
    "accelerator": "GPU"
  },
  "cells": [
    {
      "cell_type": "markdown",
      "metadata": {
        "id": "view-in-github",
        "colab_type": "text"
      },
      "source": [
        "<a href=\"https://colab.research.google.com/github/AleksanderHal/arpdata/blob/main/PROJEKT_KONCOWY2.ipynb\" target=\"_parent\"><img src=\"https://colab.research.google.com/assets/colab-badge.svg\" alt=\"Open In Colab\"/></a>"
      ]
    },
    {
      "cell_type": "markdown",
      "source": [],
      "metadata": {
        "id": "c30TUtN1Rvxc"
      }
    },
    {
      "cell_type": "code",
      "execution_count": 1,
      "metadata": {
        "id": "sLyzlK39QRlU"
      },
      "outputs": [],
      "source": [
        "#IMPORT\n",
        "\n",
        "import pandas as pd\n",
        "import numpy as np\n",
        "import seaborn as sns\n",
        "import matplotlib.pyplot as plt\n",
        "import warnings\n",
        "\n",
        "from sklearn.model_selection import train_test_split\n",
        "from sklearn.preprocessing import StandardScaler\n",
        "from sklearn.linear_model import LogisticRegression\n",
        "from sklearn.metrics import confusion_matrix, classification_report\n",
        "from sklearn import preprocessing"
      ]
    },
    {
      "cell_type": "code",
      "source": [
        "warnings.filterwarnings(\"ignore\")\n",
        "\n",
        "pd.set_option('display.max_columns', 350)\n",
        "\n",
        "df = pd.read_csv(r\"/content/flights[1].csv\")\n",
        "airports = pd.read_csv(r\"/content/airports[1].csv\")\n",
        "airlines = pd.read_csv(r\"/content/airlines[1].csv\")\n",
        "airlines = airlines.rename(columns={'AIRLINE': 'AL_FULLNAME', 'IATA_CODE': 'AIRLINE'})\n",
        "\n",
        "#convert column names to lowercase\n",
        "df.columns = df.columns.str.lower()\n",
        "airlines.columns = airlines.columns.str.lower()\n",
        "airports.columns = airports.columns.str.lower()"
      ],
      "metadata": {
        "id": "1e4KB52pR_be",
        "colab": {
          "base_uri": "https://localhost:8080/",
          "height": 390
        },
        "outputId": "7082bac9-2611-455d-8d85-8dc755ba43ef"
      },
      "execution_count": 2,
      "outputs": [
        {
          "output_type": "error",
          "ename": "FileNotFoundError",
          "evalue": "ignored",
          "traceback": [
            "\u001b[0;31m---------------------------------------------------------------------------\u001b[0m",
            "\u001b[0;31mFileNotFoundError\u001b[0m                         Traceback (most recent call last)",
            "\u001b[0;32m<ipython-input-2-17a5862d285a>\u001b[0m in \u001b[0;36m<cell line: 5>\u001b[0;34m()\u001b[0m\n\u001b[1;32m      3\u001b[0m \u001b[0mpd\u001b[0m\u001b[0;34m.\u001b[0m\u001b[0mset_option\u001b[0m\u001b[0;34m(\u001b[0m\u001b[0;34m'display.max_columns'\u001b[0m\u001b[0;34m,\u001b[0m \u001b[0;36m350\u001b[0m\u001b[0;34m)\u001b[0m\u001b[0;34m\u001b[0m\u001b[0;34m\u001b[0m\u001b[0m\n\u001b[1;32m      4\u001b[0m \u001b[0;34m\u001b[0m\u001b[0m\n\u001b[0;32m----> 5\u001b[0;31m \u001b[0mdf\u001b[0m \u001b[0;34m=\u001b[0m \u001b[0mpd\u001b[0m\u001b[0;34m.\u001b[0m\u001b[0mread_csv\u001b[0m\u001b[0;34m(\u001b[0m\u001b[0;34mr\"/content/flights[1].csv\"\u001b[0m\u001b[0;34m)\u001b[0m\u001b[0;34m\u001b[0m\u001b[0;34m\u001b[0m\u001b[0m\n\u001b[0m\u001b[1;32m      6\u001b[0m \u001b[0mairports\u001b[0m \u001b[0;34m=\u001b[0m \u001b[0mpd\u001b[0m\u001b[0;34m.\u001b[0m\u001b[0mread_csv\u001b[0m\u001b[0;34m(\u001b[0m\u001b[0;34mr\"/content/airports[1].csv\"\u001b[0m\u001b[0;34m)\u001b[0m\u001b[0;34m\u001b[0m\u001b[0;34m\u001b[0m\u001b[0m\n\u001b[1;32m      7\u001b[0m \u001b[0mairlines\u001b[0m \u001b[0;34m=\u001b[0m \u001b[0mpd\u001b[0m\u001b[0;34m.\u001b[0m\u001b[0mread_csv\u001b[0m\u001b[0;34m(\u001b[0m\u001b[0;34mr\"/content/airlines[1].csv\"\u001b[0m\u001b[0;34m)\u001b[0m\u001b[0;34m\u001b[0m\u001b[0;34m\u001b[0m\u001b[0m\n",
            "\u001b[0;32m/usr/local/lib/python3.10/dist-packages/pandas/util/_decorators.py\u001b[0m in \u001b[0;36mwrapper\u001b[0;34m(*args, **kwargs)\u001b[0m\n\u001b[1;32m    209\u001b[0m                 \u001b[0;32melse\u001b[0m\u001b[0;34m:\u001b[0m\u001b[0;34m\u001b[0m\u001b[0;34m\u001b[0m\u001b[0m\n\u001b[1;32m    210\u001b[0m                     \u001b[0mkwargs\u001b[0m\u001b[0;34m[\u001b[0m\u001b[0mnew_arg_name\u001b[0m\u001b[0;34m]\u001b[0m \u001b[0;34m=\u001b[0m \u001b[0mnew_arg_value\u001b[0m\u001b[0;34m\u001b[0m\u001b[0;34m\u001b[0m\u001b[0m\n\u001b[0;32m--> 211\u001b[0;31m             \u001b[0;32mreturn\u001b[0m \u001b[0mfunc\u001b[0m\u001b[0;34m(\u001b[0m\u001b[0;34m*\u001b[0m\u001b[0margs\u001b[0m\u001b[0;34m,\u001b[0m \u001b[0;34m**\u001b[0m\u001b[0mkwargs\u001b[0m\u001b[0;34m)\u001b[0m\u001b[0;34m\u001b[0m\u001b[0;34m\u001b[0m\u001b[0m\n\u001b[0m\u001b[1;32m    212\u001b[0m \u001b[0;34m\u001b[0m\u001b[0m\n\u001b[1;32m    213\u001b[0m         \u001b[0;32mreturn\u001b[0m \u001b[0mcast\u001b[0m\u001b[0;34m(\u001b[0m\u001b[0mF\u001b[0m\u001b[0;34m,\u001b[0m \u001b[0mwrapper\u001b[0m\u001b[0;34m)\u001b[0m\u001b[0;34m\u001b[0m\u001b[0;34m\u001b[0m\u001b[0m\n",
            "\u001b[0;32m/usr/local/lib/python3.10/dist-packages/pandas/util/_decorators.py\u001b[0m in \u001b[0;36mwrapper\u001b[0;34m(*args, **kwargs)\u001b[0m\n\u001b[1;32m    329\u001b[0m                     \u001b[0mstacklevel\u001b[0m\u001b[0;34m=\u001b[0m\u001b[0mfind_stack_level\u001b[0m\u001b[0;34m(\u001b[0m\u001b[0;34m)\u001b[0m\u001b[0;34m,\u001b[0m\u001b[0;34m\u001b[0m\u001b[0;34m\u001b[0m\u001b[0m\n\u001b[1;32m    330\u001b[0m                 )\n\u001b[0;32m--> 331\u001b[0;31m             \u001b[0;32mreturn\u001b[0m \u001b[0mfunc\u001b[0m\u001b[0;34m(\u001b[0m\u001b[0;34m*\u001b[0m\u001b[0margs\u001b[0m\u001b[0;34m,\u001b[0m \u001b[0;34m**\u001b[0m\u001b[0mkwargs\u001b[0m\u001b[0;34m)\u001b[0m\u001b[0;34m\u001b[0m\u001b[0;34m\u001b[0m\u001b[0m\n\u001b[0m\u001b[1;32m    332\u001b[0m \u001b[0;34m\u001b[0m\u001b[0m\n\u001b[1;32m    333\u001b[0m         \u001b[0;31m# error: \"Callable[[VarArg(Any), KwArg(Any)], Any]\" has no\u001b[0m\u001b[0;34m\u001b[0m\u001b[0;34m\u001b[0m\u001b[0m\n",
            "\u001b[0;32m/usr/local/lib/python3.10/dist-packages/pandas/io/parsers/readers.py\u001b[0m in \u001b[0;36mread_csv\u001b[0;34m(filepath_or_buffer, sep, delimiter, header, names, index_col, usecols, squeeze, prefix, mangle_dupe_cols, dtype, engine, converters, true_values, false_values, skipinitialspace, skiprows, skipfooter, nrows, na_values, keep_default_na, na_filter, verbose, skip_blank_lines, parse_dates, infer_datetime_format, keep_date_col, date_parser, dayfirst, cache_dates, iterator, chunksize, compression, thousands, decimal, lineterminator, quotechar, quoting, doublequote, escapechar, comment, encoding, encoding_errors, dialect, error_bad_lines, warn_bad_lines, on_bad_lines, delim_whitespace, low_memory, memory_map, float_precision, storage_options)\u001b[0m\n\u001b[1;32m    948\u001b[0m     \u001b[0mkwds\u001b[0m\u001b[0;34m.\u001b[0m\u001b[0mupdate\u001b[0m\u001b[0;34m(\u001b[0m\u001b[0mkwds_defaults\u001b[0m\u001b[0;34m)\u001b[0m\u001b[0;34m\u001b[0m\u001b[0;34m\u001b[0m\u001b[0m\n\u001b[1;32m    949\u001b[0m \u001b[0;34m\u001b[0m\u001b[0m\n\u001b[0;32m--> 950\u001b[0;31m     \u001b[0;32mreturn\u001b[0m \u001b[0m_read\u001b[0m\u001b[0;34m(\u001b[0m\u001b[0mfilepath_or_buffer\u001b[0m\u001b[0;34m,\u001b[0m \u001b[0mkwds\u001b[0m\u001b[0;34m)\u001b[0m\u001b[0;34m\u001b[0m\u001b[0;34m\u001b[0m\u001b[0m\n\u001b[0m\u001b[1;32m    951\u001b[0m \u001b[0;34m\u001b[0m\u001b[0m\n\u001b[1;32m    952\u001b[0m \u001b[0;34m\u001b[0m\u001b[0m\n",
            "\u001b[0;32m/usr/local/lib/python3.10/dist-packages/pandas/io/parsers/readers.py\u001b[0m in \u001b[0;36m_read\u001b[0;34m(filepath_or_buffer, kwds)\u001b[0m\n\u001b[1;32m    603\u001b[0m \u001b[0;34m\u001b[0m\u001b[0m\n\u001b[1;32m    604\u001b[0m     \u001b[0;31m# Create the parser.\u001b[0m\u001b[0;34m\u001b[0m\u001b[0;34m\u001b[0m\u001b[0m\n\u001b[0;32m--> 605\u001b[0;31m     \u001b[0mparser\u001b[0m \u001b[0;34m=\u001b[0m \u001b[0mTextFileReader\u001b[0m\u001b[0;34m(\u001b[0m\u001b[0mfilepath_or_buffer\u001b[0m\u001b[0;34m,\u001b[0m \u001b[0;34m**\u001b[0m\u001b[0mkwds\u001b[0m\u001b[0;34m)\u001b[0m\u001b[0;34m\u001b[0m\u001b[0;34m\u001b[0m\u001b[0m\n\u001b[0m\u001b[1;32m    606\u001b[0m \u001b[0;34m\u001b[0m\u001b[0m\n\u001b[1;32m    607\u001b[0m     \u001b[0;32mif\u001b[0m \u001b[0mchunksize\u001b[0m \u001b[0;32mor\u001b[0m \u001b[0miterator\u001b[0m\u001b[0;34m:\u001b[0m\u001b[0;34m\u001b[0m\u001b[0;34m\u001b[0m\u001b[0m\n",
            "\u001b[0;32m/usr/local/lib/python3.10/dist-packages/pandas/io/parsers/readers.py\u001b[0m in \u001b[0;36m__init__\u001b[0;34m(self, f, engine, **kwds)\u001b[0m\n\u001b[1;32m   1440\u001b[0m \u001b[0;34m\u001b[0m\u001b[0m\n\u001b[1;32m   1441\u001b[0m         \u001b[0mself\u001b[0m\u001b[0;34m.\u001b[0m\u001b[0mhandles\u001b[0m\u001b[0;34m:\u001b[0m \u001b[0mIOHandles\u001b[0m \u001b[0;34m|\u001b[0m \u001b[0;32mNone\u001b[0m \u001b[0;34m=\u001b[0m \u001b[0;32mNone\u001b[0m\u001b[0;34m\u001b[0m\u001b[0;34m\u001b[0m\u001b[0m\n\u001b[0;32m-> 1442\u001b[0;31m         \u001b[0mself\u001b[0m\u001b[0;34m.\u001b[0m\u001b[0m_engine\u001b[0m \u001b[0;34m=\u001b[0m \u001b[0mself\u001b[0m\u001b[0;34m.\u001b[0m\u001b[0m_make_engine\u001b[0m\u001b[0;34m(\u001b[0m\u001b[0mf\u001b[0m\u001b[0;34m,\u001b[0m \u001b[0mself\u001b[0m\u001b[0;34m.\u001b[0m\u001b[0mengine\u001b[0m\u001b[0;34m)\u001b[0m\u001b[0;34m\u001b[0m\u001b[0;34m\u001b[0m\u001b[0m\n\u001b[0m\u001b[1;32m   1443\u001b[0m \u001b[0;34m\u001b[0m\u001b[0m\n\u001b[1;32m   1444\u001b[0m     \u001b[0;32mdef\u001b[0m \u001b[0mclose\u001b[0m\u001b[0;34m(\u001b[0m\u001b[0mself\u001b[0m\u001b[0;34m)\u001b[0m \u001b[0;34m->\u001b[0m \u001b[0;32mNone\u001b[0m\u001b[0;34m:\u001b[0m\u001b[0;34m\u001b[0m\u001b[0;34m\u001b[0m\u001b[0m\n",
            "\u001b[0;32m/usr/local/lib/python3.10/dist-packages/pandas/io/parsers/readers.py\u001b[0m in \u001b[0;36m_make_engine\u001b[0;34m(self, f, engine)\u001b[0m\n\u001b[1;32m   1733\u001b[0m                 \u001b[0;32mif\u001b[0m \u001b[0;34m\"b\"\u001b[0m \u001b[0;32mnot\u001b[0m \u001b[0;32min\u001b[0m \u001b[0mmode\u001b[0m\u001b[0;34m:\u001b[0m\u001b[0;34m\u001b[0m\u001b[0;34m\u001b[0m\u001b[0m\n\u001b[1;32m   1734\u001b[0m                     \u001b[0mmode\u001b[0m \u001b[0;34m+=\u001b[0m \u001b[0;34m\"b\"\u001b[0m\u001b[0;34m\u001b[0m\u001b[0;34m\u001b[0m\u001b[0m\n\u001b[0;32m-> 1735\u001b[0;31m             self.handles = get_handle(\n\u001b[0m\u001b[1;32m   1736\u001b[0m                 \u001b[0mf\u001b[0m\u001b[0;34m,\u001b[0m\u001b[0;34m\u001b[0m\u001b[0;34m\u001b[0m\u001b[0m\n\u001b[1;32m   1737\u001b[0m                 \u001b[0mmode\u001b[0m\u001b[0;34m,\u001b[0m\u001b[0;34m\u001b[0m\u001b[0;34m\u001b[0m\u001b[0m\n",
            "\u001b[0;32m/usr/local/lib/python3.10/dist-packages/pandas/io/common.py\u001b[0m in \u001b[0;36mget_handle\u001b[0;34m(path_or_buf, mode, encoding, compression, memory_map, is_text, errors, storage_options)\u001b[0m\n\u001b[1;32m    854\u001b[0m         \u001b[0;32mif\u001b[0m \u001b[0mioargs\u001b[0m\u001b[0;34m.\u001b[0m\u001b[0mencoding\u001b[0m \u001b[0;32mand\u001b[0m \u001b[0;34m\"b\"\u001b[0m \u001b[0;32mnot\u001b[0m \u001b[0;32min\u001b[0m \u001b[0mioargs\u001b[0m\u001b[0;34m.\u001b[0m\u001b[0mmode\u001b[0m\u001b[0;34m:\u001b[0m\u001b[0;34m\u001b[0m\u001b[0;34m\u001b[0m\u001b[0m\n\u001b[1;32m    855\u001b[0m             \u001b[0;31m# Encoding\u001b[0m\u001b[0;34m\u001b[0m\u001b[0;34m\u001b[0m\u001b[0m\n\u001b[0;32m--> 856\u001b[0;31m             handle = open(\n\u001b[0m\u001b[1;32m    857\u001b[0m                 \u001b[0mhandle\u001b[0m\u001b[0;34m,\u001b[0m\u001b[0;34m\u001b[0m\u001b[0;34m\u001b[0m\u001b[0m\n\u001b[1;32m    858\u001b[0m                 \u001b[0mioargs\u001b[0m\u001b[0;34m.\u001b[0m\u001b[0mmode\u001b[0m\u001b[0;34m,\u001b[0m\u001b[0;34m\u001b[0m\u001b[0;34m\u001b[0m\u001b[0m\n",
            "\u001b[0;31mFileNotFoundError\u001b[0m: [Errno 2] No such file or directory: '/content/flights[1].csv'"
          ]
        }
      ]
    },
    {
      "cell_type": "code",
      "source": [
        "import pandas as pd\n",
        "\n",
        "# Merge airlines and flights data to get full names of airlines\n",
        "df = df.merge(airlines, how='left', on='airline')\n",
        "\n",
        "# Merge origin airport data onto the main df\n",
        "merged_df = df.merge(airports, left_on='origin_airport', right_on='iata_code', how='left')\n",
        "\n",
        "# Rename columns\n",
        "column_rename_mapping = {\n",
        "    'airport': 'origin_airport_name',\n",
        "    'city': 'origin_city',\n",
        "    'state': 'origin_state',\n",
        "    'country': 'origin_country',\n",
        "    'latitude': 'origin_latitude',\n",
        "    'longitude': 'origin_longitude'\n",
        "}\n",
        "merged_df = merged_df.rename(columns=column_rename_mapping)\n",
        "\n",
        "# Drop the 'iata_code' column\n",
        "merged_df = merged_df.drop('iata_code', axis=1)\n",
        "\n",
        "\n",
        "\n",
        "\n"
      ],
      "metadata": {
        "id": "muuZDC76SNcQ"
      },
      "execution_count": null,
      "outputs": []
    },
    {
      "cell_type": "code",
      "source": [
        "# Drop rows with NaN in the 'departure_delay' and 'arrival_delay' columns for cancelation prediction\n",
        "#merged_df.dropna(subset=['departure_delay', 'arrival_delay', 'cancelled'], inplace=True)\n"
      ],
      "metadata": {
        "id": "rasXbcsJEmyE"
      },
      "execution_count": null,
      "outputs": []
    },
    {
      "cell_type": "code",
      "source": [
        "\n",
        "# Merge destination airport data onto the main df, rename columns, and drop 'iata_code'\n",
        "df = pd.merge(merged_df, airports, left_on='destination_airport', right_on='iata_code', how='left')\\\n",
        "    .rename(columns={\n",
        "        'airport': 'destination_airport_name',\n",
        "        'city': 'destination_city',\n",
        "        'state': 'destination_state',\n",
        "        'country': 'destination_country',\n",
        "        'latitude': 'destination_latitude',\n",
        "        'longitude': 'destination_longitude'\n",
        "    })\\\n",
        "    .drop('iata_code', axis=1)"
      ],
      "metadata": {
        "id": "LHOHeRczT8CZ"
      },
      "execution_count": null,
      "outputs": []
    },
    {
      "cell_type": "code",
      "source": [
        "result = pd.DataFrame({\n",
        "    'Data Types': df.dtypes,\n",
        "    'Null Values': df.isnull().sum(),\n",
        "    'Null Percent': (df.isnull().mean() * 100),\n",
        "    'Unique Values': df.nunique()\n",
        "}).T\n",
        "\n",
        "# Display the result\n",
        "result"
      ],
      "metadata": {
        "id": "7Srs2LrYUIsM"
      },
      "execution_count": null,
      "outputs": []
    },
    {
      "cell_type": "code",
      "source": [
        "#drop columns with little variability/not useful in prediciton/visualization or redundant\n",
        "df = df.drop(columns = ['flight_number', 'tail_number', 'taxi_out',\n",
        "                   'wheels_off', 'air_time', 'taxi_in', 'diverted',\n",
        "                  'cancellation_reason', 'air_system_delay', 'security_delay',\n",
        "                   'airline_delay', 'late_aircraft_delay', 'weather_delay', 'destination_country',\n",
        "                       'origin_country'])\n",
        "df.head()\n",
        "df"
      ],
      "metadata": {
        "id": "CuJPUB4zU2nT"
      },
      "execution_count": null,
      "outputs": []
    },
    {
      "cell_type": "code",
      "source": [
        "df['date'] = pd.to_datetime(df[['year', 'month', 'day']])\n",
        "df['week_number'] = df['date'].dt.strftime('%U')\n",
        "df['sched_hour'] = df['departure_time'] // 100  # Assuming you want to extract the hour from 'departure_time'\n",
        "df['dow_name'] = df['date'].dt.strftime('%A')"
      ],
      "metadata": {
        "id": "cctBAQKkVIXG"
      },
      "execution_count": null,
      "outputs": []
    },
    {
      "cell_type": "code",
      "source": [
        "def season_cat(x):\n",
        "    season_mapping = {\n",
        "        12: 'winter',\n",
        "        1: 'winter',\n",
        "        2: 'winter',\n",
        "        3: 'spring',\n",
        "        4: 'spring',\n",
        "        5: 'spring',\n",
        "        6: 'summer',\n",
        "        7: 'summer',\n",
        "        8: 'summer'\n",
        "    }\n",
        "    return season_mapping.get(x, 'autumn')"
      ],
      "metadata": {
        "id": "lt9XJFHdViU0"
      },
      "execution_count": null,
      "outputs": []
    },
    {
      "cell_type": "code",
      "source": [],
      "metadata": {
        "id": "WyfTFWKYZB4q"
      },
      "execution_count": null,
      "outputs": []
    },
    {
      "cell_type": "code",
      "source": [
        "# Create a new column for the season\n",
        "df['season'] = df['month'].apply(season_cat)\n",
        "\n",
        "# Drop the 'year' column\n",
        "df.drop(columns='year', inplace=True)"
      ],
      "metadata": {
        "id": "12TsmQI6VraG"
      },
      "execution_count": null,
      "outputs": []
    },
    {
      "cell_type": "code",
      "source": [
        "# Find unmatched origin airports\n",
        "unmatched_origin_airports = set(df['origin_airport']) - set(airports['iata_code'])\n",
        "\n",
        "# Find unmatched destination airports\n",
        "unmatched_destination_airports = set(df['destination_airport']) - set(airports['iata_code'])\n",
        "\n",
        "# Calculate the number of unmatched origin airports\n",
        "num_unmatched_origin_airports = len(unmatched_origin_airports)\n",
        "\n",
        "num_unmatched_origin_airports  # This will give you the count of unmatched origin airports"
      ],
      "metadata": {
        "id": "q0OBEHsTV55Y"
      },
      "execution_count": null,
      "outputs": []
    },
    {
      "cell_type": "code",
      "source": [
        "from datetime import datetime\n",
        "import pandas as pd\n",
        "\n",
        "# Function to convert float time to string time format\n",
        "def convert_float_time(float_time):\n",
        "    if pd.notna(float_time):\n",
        "        float_time = str(int(float_time)).zfill(4)  # Ensure 4 characters\n",
        "        hour = int(float_time[:2])  # Extract the hour\n",
        "        minute = int(float_time[2:])  # Extract the minutes\n",
        "        if hour >= 24:\n",
        "            hour = hour % 24\n",
        "        return f\"{hour:02d}:{minute:02d}:00\"\n",
        "    return None\n",
        "\n",
        "# Apply the conversion function to the time-related columns\n",
        "time_columns = ['arrival_time', 'departure_time', 'scheduled_departure']\n",
        "for col in time_columns:\n",
        "    df[col] = df[col].apply(convert_float_time)\n",
        "\n",
        "# Combine date and scheduled departure columns into a single datetime column\n",
        "df['scheduled_departure_datetime'] = pd.to_datetime(df['date'].astype(str) + ' ' + df['scheduled_departure'], format='%Y%m%d %H:%M:%S')\n",
        "\n",
        "# Get the hour from the scheduled departure time and store it in a new column\n",
        "df['sched_hour'] = df['scheduled_departure_datetime'].dt.strftime('%H')"
      ],
      "metadata": {
        "id": "fdS9fVKAZMdv"
      },
      "execution_count": null,
      "outputs": []
    },
    {
      "cell_type": "markdown",
      "source": [
        "#EDA\n"
      ],
      "metadata": {
        "id": "WMO9VRZhaQ6L"
      }
    },
    {
      "cell_type": "code",
      "source": [
        "\n",
        "# Oblicz macierz korelacji\n",
        "#correlation_matrix = df[['departure_delay', 'arrival_delay', 'cancellation']].corr()\n",
        "\n",
        "# Wyświetl macierz korelacji\n",
        "#print(correlation_matrix)"
      ],
      "metadata": {
        "id": "4P9nl2JGVTzY"
      },
      "execution_count": null,
      "outputs": []
    },
    {
      "cell_type": "code",
      "source": [
        "import seaborn as sns\n",
        "import matplotlib.pyplot as plt\n",
        "\n",
        "# Get the count of all unique airlines\n",
        "airline_counts = df['al_fullname'].value_counts().sort_values(ascending=False)\n",
        "\n",
        "# Set the style for the plot\n",
        "sns.set(style=\"whitegrid\")\n",
        "\n",
        "# Create a bar chart using seaborn\n",
        "plt.figure(figsize=(8, 6))\n",
        "sns.barplot(x=airline_counts.values, y=airline_counts.index, palette=\"colorblind\")\n",
        "\n",
        "# Set plot title and axis labels\n",
        "plt.title(\"Count of Flights of all Airlines\")\n",
        "plt.xlabel(\"Count\")\n",
        "plt.ylabel(\"Airline\")\n",
        "\n",
        "# Display the plot\n",
        "plt.show()\n"
      ],
      "metadata": {
        "id": "Z15NyFwJZ1kU"
      },
      "execution_count": null,
      "outputs": []
    },
    {
      "cell_type": "code",
      "source": [
        "import seaborn as sns\n",
        "import matplotlib.pyplot as plt\n",
        "\n",
        "# Calculate the total distance flown by each airline\n",
        "airline_sum_distance = df.groupby('al_fullname')['distance'].sum().sort_values(ascending=False)\n",
        "\n",
        "# Set the style for the plot\n",
        "sns.set(style=\"whitegrid\")\n",
        "\n",
        "# Create a bar plot using seaborn\n",
        "plt.figure(figsize=(8, 6))\n",
        "sns.barplot(x=airline_sum_distance.values, y=airline_sum_distance.index, palette=\"colorblind\")\n",
        "\n",
        "# Set plot title and axis labels\n",
        "plt.title(\"Total Sum of Distance Flown by Airline\")\n",
        "plt.xlabel(\"Total Distance (in miles)\")\n",
        "plt.ylabel(\"Airline\")\n",
        "\n",
        "# Display the plot\n",
        "plt.show()"
      ],
      "metadata": {
        "id": "6e0ZN_iMabLE"
      },
      "execution_count": null,
      "outputs": []
    },
    {
      "cell_type": "code",
      "source": [
        "\n",
        "df['distance'].plot(kind = 'hist')"
      ],
      "metadata": {
        "id": "Q4gY9asZchlJ"
      },
      "execution_count": null,
      "outputs": []
    },
    {
      "cell_type": "code",
      "source": [
        "# Function that assigns 'short,' 'medium,' or 'long' based on distance\n",
        "def dist_cat(x):\n",
        "    if x < 500:\n",
        "        return 'short'\n",
        "    elif x <= 1000:\n",
        "        return 'medium'\n",
        "    return 'long'\n",
        "\n",
        "# Create 'dist_type' column and count the number of short, medium, and long flights\n",
        "df['dist_type'] = df['distance'].apply(dist_cat)\n",
        "dist_type_counts = df['dist_type'].value_counts()\n",
        "\n",
        "# Print the count of flights in each category\n",
        "print(dist_type_counts)"
      ],
      "metadata": {
        "id": "nnt8gOgscnbJ"
      },
      "execution_count": null,
      "outputs": []
    },
    {
      "cell_type": "code",
      "source": [
        "import matplotlib.pyplot as plt\n",
        "import seaborn as sns\n",
        "\n",
        "plt.figure(figsize=(10, 6))\n",
        "sns.countplot(data=df, y='al_fullname', hue='dist_type', palette=\"colorblind\")\n",
        "plt.xlabel(\"Count\")\n",
        "plt.ylabel(\"Airline Full Name\")\n",
        "plt.title(\"Count of Dist Types by Airline\")\n",
        "plt.legend(title='Distribution Type')\n",
        "plt.show()"
      ],
      "metadata": {
        "id": "I5ppYUH4dyD1"
      },
      "execution_count": null,
      "outputs": []
    },
    {
      "cell_type": "code",
      "source": [
        "plt.figure(figsize=(10, 6))\n",
        "sns.stripplot(y=\"al_fullname\", x=\"cancelled\", data=df, linewidth = 2,  jitter=True)"
      ],
      "metadata": {
        "id": "m0hfCGsrd8qU"
      },
      "execution_count": null,
      "outputs": []
    },
    {
      "cell_type": "code",
      "source": [
        "#15 destination airports with the largest average number of flights cancelled\n",
        "df.groupby('destination_airport')['cancelled'].mean().sort_values().nlargest(15)"
      ],
      "metadata": {
        "id": "BkI3Av0HgXBb"
      },
      "execution_count": null,
      "outputs": []
    },
    {
      "cell_type": "markdown",
      "source": [
        "Does airline performance change over the months of the year? In other words, is one airline always the worst performing, or is there variability?"
      ],
      "metadata": {
        "id": "hybqdXv2i731"
      }
    },
    {
      "cell_type": "markdown",
      "source": [
        "Which routes have the highest probability of being canceled?"
      ],
      "metadata": {
        "id": "v21RcwPunixy"
      }
    },
    {
      "cell_type": "code",
      "source": [
        "df['cancelled'].value_counts(normalize=True) * 100"
      ],
      "metadata": {
        "id": "zFy65cIrl6yv"
      },
      "execution_count": null,
      "outputs": []
    },
    {
      "cell_type": "code",
      "source": [
        "sns.countplot(x='cancelled', data = df)\n",
        "plt.show()"
      ],
      "metadata": {
        "id": "vGBDSIu2noWP"
      },
      "execution_count": null,
      "outputs": []
    },
    {
      "cell_type": "code",
      "source": [
        "df.groupby(['al_fullname'])['cancelled'].mean().sort_values(ascending = False).reset_index()"
      ],
      "metadata": {
        "id": "yC63vsqeobdX"
      },
      "execution_count": null,
      "outputs": []
    },
    {
      "cell_type": "code",
      "source": [
        "# Group the DataFrame by date, calculate the sum of cancellations, and sort the results\n",
        "cancellation_counts = df.groupby(['date'])['cancelled'].sum().sort_values(ascending=False)\n",
        "\n",
        "# Create a figure with a specified size\n",
        "plt.figure(figsize=(10, 6))\n",
        "\n",
        "# Plot the cancellation counts\n",
        "cancellation_counts.plot()\n",
        "\n",
        "# Set plot title and axis labels\n",
        "plt.title('Cancellation Count 2015')\n",
        "plt.xlabel('Date')\n",
        "plt.ylabel('Cancellation Count')\n",
        "\n",
        "# Display the plot\n",
        "plt.show()"
      ],
      "metadata": {
        "id": "MVq7FefUo2Tv"
      },
      "execution_count": null,
      "outputs": []
    },
    {
      "cell_type": "code",
      "source": [
        "# Count cancellations and flights for each airline\n",
        "df_cancelled = df.groupby('al_fullname')['cancelled'].agg(total_cancelled='sum', total_flights='count')\n",
        "df_cancelled['cancellation_rate'] = df_cancelled['total_cancelled'] / df_cancelled['total_flights']\n",
        "\n",
        "# Plot a scatter plot for the top 7 airlines with the highest total flights\n",
        "top_airlines = df_cancelled.nlargest(7, 'total_flights')\n",
        "scatter_plot = sns.scatterplot(data=top_airlines.reset_index(), x='total_flights', y='cancellation_rate', hue='al_fullname', marker='o', s=100)\n",
        "plt.xlabel('Total Flights')\n",
        "plt.ylabel('Cancellation Rate')\n",
        "plt.title('Cancellation Rate vs. Total Flights for Top 7 Airlines')\n",
        "\n",
        "# Move the legend outside the graph\n",
        "plt.legend(title='Airline', bbox_to_anchor=(1.05, 1), loc='upper left')\n",
        "\n",
        "plt.show()\n",
        "\n",
        "\n",
        "\n"
      ],
      "metadata": {
        "id": "srh9RkiRo7k7"
      },
      "execution_count": null,
      "outputs": []
    },
    {
      "cell_type": "code",
      "source": [
        "# Get the average cancellations by day of the week\n",
        "dow_canc = df.groupby(['dow_name'])['cancelled'].mean().reset_index()\n",
        "dow_canc['cancellation_mean'] = dow_canc['cancelled'] * 100\n",
        "dow_canc.drop(columns=['cancelled'], inplace=True)\n",
        "\n",
        "# Get the count of flights by day of the week\n",
        "dow_count = df.groupby(['dow_name']).size().reset_index()\n",
        "dow_count.rename(columns={0: 'flight_count'}, inplace=True)\n",
        "\n",
        "# Merge the dataframes and sort by flight count\n",
        "canc_df = pd.merge(dow_canc, dow_count, on='dow_name').sort_values(by='flight_count')\n",
        "\n",
        "# Display the resulting dataframe\n",
        "canc_df"
      ],
      "metadata": {
        "id": "leV2W9D_tTGY"
      },
      "execution_count": null,
      "outputs": []
    },
    {
      "cell_type": "markdown",
      "source": [
        "Forecasting the count of cancelled American Airlines flights."
      ],
      "metadata": {
        "id": "QmkQtj_N0dqs"
      }
    },
    {
      "cell_type": "code",
      "source": [
        "#subset df to include only american airline flights\n",
        "al_df = df[(df['airline'] == 'AA')]\n",
        "\n",
        "#drop observations from october\n",
        "al_df[al_df['month'] != 10]\n",
        "\n",
        "#subset dataframe to predictive columns\n",
        "#removing columns where data isn't available(e.g. departure delay isn't known for cancelled flight)\n",
        "relevant_cols = ['cancelled','month','day_of_week','distance','scheduled_time', 'sched_hour']\n",
        "al_df = al_df[relevant_cols]"
      ],
      "metadata": {
        "id": "QXe4X1pfy1Z1"
      },
      "execution_count": null,
      "outputs": []
    },
    {
      "cell_type": "code",
      "source": [
        "#add day of week, route, hour, month dummy variables\n",
        "day_dummys = pd.get_dummies(al_df['day_of_week'], prefix = 'day')\n",
        "month_dummys = pd.get_dummies(al_df['month'], prefix = 'month')\n",
        "hour_dummys = pd.get_dummies(al_df['sched_hour'], prefix = 'hour')"
      ],
      "metadata": {
        "id": "Zmb0qeAz0pnz"
      },
      "execution_count": null,
      "outputs": []
    },
    {
      "cell_type": "code",
      "source": [
        "#concat dummy vars to dataframe\n",
        "al_df = pd.concat([al_df, day_dummys, month_dummys, hour_dummys], axis = 1)\n",
        "al_df = al_df.drop(columns = ['month','day_of_week', 'sched_hour'])"
      ],
      "metadata": {
        "id": "ngXvg4Ga1lrT"
      },
      "execution_count": null,
      "outputs": []
    },
    {
      "cell_type": "code",
      "source": [
        "al_df.head()"
      ],
      "metadata": {
        "id": "i5fDJfeY2L9G"
      },
      "execution_count": null,
      "outputs": []
    },
    {
      "cell_type": "code",
      "source": [
        "#split data into features + target\n",
        "X = al_df.drop('cancelled', 1)\n",
        "y = al_df.cancelled"
      ],
      "metadata": {
        "id": "0rrrw6Cy2PPX"
      },
      "execution_count": null,
      "outputs": []
    },
    {
      "cell_type": "markdown",
      "source": [
        "#MODEL"
      ],
      "metadata": {
        "id": "_XYs-FMm30CB"
      }
    },
    {
      "cell_type": "code",
      "source": [
        "from sklearn.model_selection import train_test_split\n",
        "from sklearn.ensemble import RandomForestClassifier\n",
        "from sklearn.metrics import accuracy_score, classification_report, confusion_matrix\n",
        "\n",
        "# Split the dataset into a training set and a test set\n",
        "X_train, X_test, y_train, y_test = train_test_split(X, y, test_size=0.2, random_state=42)"
      ],
      "metadata": {
        "id": "ppAZ6O113yWp"
      },
      "execution_count": null,
      "outputs": []
    },
    {
      "cell_type": "code",
      "source": [
        "from sklearn.impute import SimpleImputer\n",
        "\n",
        "# Handle missing values with simple imputation\n",
        "imputer = SimpleImputer(strategy='mean')\n",
        "X_train = imputer.fit_transform(X_train)\n",
        "X_test = imputer.transform(X_test)\n",
        "\n",
        "\n",
        "# Train a Random Forest classifier\n",
        "model = RandomForestClassifier(n_estimators=100, random_state=42)\n",
        "model.fit(X_train, y_train)\n",
        "\n",
        "# Make predictions on the test set\n",
        "y_pred = model.predict(X_test)\n",
        "\n",
        "# Evaluate the model\n",
        "accuracy = accuracy_score(y_test, y_pred)\n",
        "conf_matrix = confusion_matrix(y_test, y_pred)\n",
        "classification_rep = classification_report(y_test, y_pred)\n",
        "\n",
        "# Display evaluation results\n",
        "print(\"Accuracy:\", accuracy)\n",
        "print(\"Confusion Matrix:\\n\", conf_matrix)\n",
        "print(\"Classification Report:\\n\", classification_rep)"
      ],
      "metadata": {
        "id": "2qzHvvQJKjDw"
      },
      "execution_count": null,
      "outputs": []
    },
    {
      "cell_type": "code",
      "source": [],
      "metadata": {
        "id": "Eg3ERfFXY3WU"
      },
      "execution_count": null,
      "outputs": []
    }
  ]
}